{
 "cells": [
  {
   "cell_type": "code",
   "execution_count": 2,
   "id": "c9d0faae",
   "metadata": {},
   "outputs": [
    {
     "name": "stdout",
     "output_type": "stream",
     "text": [
      "let's Get Stated with Pyhton\n"
     ]
    }
   ],
   "source": [
    "print(\"let's Get Stated with Pyhton\")"
   ]
  },
  {
   "cell_type": "code",
   "execution_count": 3,
   "id": "9eb711b0",
   "metadata": {},
   "outputs": [
    {
     "name": "stdout",
     "output_type": "stream",
     "text": [
      "Numpy\n"
     ]
    }
   ],
   "source": [
    "print(\"Numpy\")"
   ]
  },
  {
   "cell_type": "code",
   "execution_count": 10,
   "id": "66f08cc5",
   "metadata": {},
   "outputs": [
    {
     "ename": "ModuleNotFoundError",
     "evalue": "No module named 'streamlit'",
     "output_type": "error",
     "traceback": [
      "\u001b[1;31m---------------------------------------------------------------------------\u001b[0m",
      "\u001b[1;31mModuleNotFoundError\u001b[0m                       Traceback (most recent call last)",
      "Cell \u001b[1;32mIn[10], line 2\u001b[0m\n\u001b[0;32m      1\u001b[0m \u001b[38;5;28;01mimport\u001b[39;00m \u001b[38;5;21;01mnumpy\u001b[39;00m \u001b[38;5;28;01mas\u001b[39;00m \u001b[38;5;21;01mnp\u001b[39;00m\n\u001b[1;32m----> 2\u001b[0m \u001b[38;5;28;01mimport\u001b[39;00m \u001b[38;5;21;01mstreamlit\u001b[39;00m \u001b[38;5;28;01mas\u001b[39;00m \u001b[38;5;21;01mst\u001b[39;00m\n",
      "\u001b[1;31mModuleNotFoundError\u001b[0m: No module named 'streamlit'"
     ]
    }
   ],
   "source": [
    "import numpy as np\n",
    "# import streamlit as st"
   ]
  },
  {
   "cell_type": "code",
   "execution_count": 4,
   "id": "0cafd0ec",
   "metadata": {},
   "outputs": [
    {
     "name": "stdout",
     "output_type": "stream",
     "text": [
      "\n",
      "Number Guessing Game\n",
      "\n",
      "Enter ur Guess(00-99)90\n",
      "Your guess is quite larger than random Number\n",
      "\n",
      "Enter ur Guess(00-99)50\n",
      "Your guess is quite smaller than random Number\n",
      "\n",
      "Enter ur Guess(00-99)75\n",
      "Your guess is quite smaller than random Number\n",
      "\n",
      "Enter ur Guess(00-99)85\n",
      "Your guess is quite smaller than random Number\n",
      "\n",
      "Enter ur Guess(00-99)95\n",
      "Your guess is quite larger than random Number\n",
      "\n",
      "Enter ur Guess(00-99)89\n",
      "You Gussed the Correct no. 89\n"
     ]
    }
   ],
   "source": [
    "print(\"\\nNumber Guessing Game\\n\")\n",
    "rand=(int(np.random.rand()*100))\n",
    "while True:\n",
    "    un=int(input(\"Enter ur Guess(00-99)\"))\n",
    "    if un==rand:\n",
    "        print(\"You Gussed the Correct no.\",rand)\n",
    "        break\n",
    "    elif un>rand:\n",
    "        print(\"Your guess is quite larger than random Number\\n\")\n",
    "    elif un<rand:\n",
    "        print(\"Your guess is quite smaller than random Number\\n\")\n"
   ]
  },
  {
   "cell_type": "code",
   "execution_count": null,
   "id": "9c755806",
   "metadata": {},
   "outputs": [],
   "source": [
    "print(\"\\n Numpy Arrays\\n\")\n",
    "\n"
   ]
  }
 ],
 "metadata": {
  "kernelspec": {
   "display_name": "Python 3 (ipykernel)",
   "language": "python",
   "name": "python3"
  },
  "language_info": {
   "codemirror_mode": {
    "name": "ipython",
    "version": 3
   },
   "file_extension": ".py",
   "mimetype": "text/x-python",
   "name": "python",
   "nbconvert_exporter": "python",
   "pygments_lexer": "ipython3",
   "version": "3.10.9"
  }
 },
 "nbformat": 4,
 "nbformat_minor": 5
}
