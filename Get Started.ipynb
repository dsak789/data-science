{
 "cells": [
  {
   "cell_type": "code",
   "execution_count": 2,
   "id": "15e664f9",
   "metadata": {},
   "outputs": [
    {
     "name": "stdout",
     "output_type": "stream",
     "text": [
      "let's Get Stated with Pyhton\n"
     ]
    }
   ],
   "source": [
    "print(\"let's Get Stated with Pyhton\")"
   ]
  },
  {
   "cell_type": "code",
   "execution_count": 3,
   "id": "3a309f58",
   "metadata": {},
   "outputs": [
    {
     "name": "stdout",
     "output_type": "stream",
     "text": [
      "Numpy\n"
     ]
    }
   ],
   "source": [
    "print(\"Numpy\")"
   ]
  },
  {
   "cell_type": "code",
   "execution_count": 3,
   "id": "545288db",
   "metadata": {},
   "outputs": [],
   "source": [
    "# !pip install streamlit\n",
    "import numpy as np\n",
    "import streamlit as st"
   ]
  },
  {
   "cell_type": "code",
   "execution_count": 5,
   "id": "08c5bd34",
   "metadata": {},
   "outputs": [
    {
     "name": "stdout",
     "output_type": "stream",
     "text": [
      "\n",
      "Number Guessing Game\n",
      "\n",
      "Enter ur Guess(00-99):47\n",
      "Your guess is quite smaller than random Number\n",
      "\n",
      "Enter ur Guess(00-99):75\n",
      "Your guess is quite larger than random Number\n",
      "\n",
      "Enter ur Guess(00-99):65\n",
      "Your guess is quite larger than random Number\n",
      "\n",
      "Enter ur Guess(00-99):55\n",
      "Your guess is quite larger than random Number\n",
      "\n",
      "Enter ur Guess(00-99):50\n",
      "Your guess is quite larger than random Number\n",
      "\n",
      "Enter ur Guess(00-99):48\n",
      "Your guess is quite smaller than random Number\n",
      "\n",
      "Enter ur Guess(00-99):49\n",
      "You Gussed the Correct no. 49\n"
     ]
    }
   ],
   "source": [
    "print(\"\\nNumber Guessing Game\\n\")\n",
    "rand=(int(np.random.rand()*100))\n",
    "while True:\n",
    "    un=int(input(\"Enter ur Guess(00-99):\"))\n",
    "    if un==rand:\n",
    "        print(\"You Gussed the Correct no.\",rand)\n",
    "        break\n",
    "    elif un>rand:\n",
    "        print(\"Your guess is quite larger than random Number\\n\")\n",
    "    elif un<rand:\n",
    "        print(\"Your guess is quite smaller than random Number\\n\")\n"
   ]
  },
  {
   "cell_type": "code",
   "execution_count": 13,
   "id": "c357a3a3",
   "metadata": {},
   "outputs": [
    {
     "name": "stdout",
     "output_type": "stream",
     "text": [
      "\n",
      " Numpy Arrays\n",
      "\n"
     ]
    }
   ],
   "source": [
    "print(\"\\n Numpy Arrays\\n\")\n",
    "\n"
   ]
  },
  {
   "cell_type": "code",
   "execution_count": null,
   "id": "d09edf2a",
   "metadata": {},
   "outputs": [],
   "source": []
  },
  {
   "cell_type": "code",
   "execution_count": null,
   "id": "7e1a6c66",
   "metadata": {},
   "outputs": [],
   "source": []
  }
 ],
 "metadata": {
  "kernelspec": {
   "display_name": "Python 3 (ipykernel)",
   "language": "python",
   "name": "python3"
  },
  "language_info": {
   "codemirror_mode": {
    "name": "ipython",
    "version": 3
   },
   "file_extension": ".py",
   "mimetype": "text/x-python",
   "name": "python",
   "nbconvert_exporter": "python",
   "pygments_lexer": "ipython3",
   "version": "3.10.9"
  }
 },
 "nbformat": 4,
 "nbformat_minor": 5
}
