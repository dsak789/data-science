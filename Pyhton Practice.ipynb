{
 "cells": [
  {
   "cell_type": "code",
   "execution_count": 19,
   "id": "85c9cfd1",
   "metadata": {},
   "outputs": [],
   "source": [
    "class TTT:\n",
    "    def board():\n",
    "        magic=[\"\",4,9,2,3,5,7,8,1,6]\n",
    "        for i in range(1,10):\n",
    "#             print(i)\n",
    "            print(magic[i])"
   ]
  },
  {
   "cell_type": "code",
   "execution_count": 20,
   "id": "272dc464",
   "metadata": {},
   "outputs": [
    {
     "name": "stdout",
     "output_type": "stream",
     "text": [
      "4\n",
      "9\n",
      "2\n",
      "3\n",
      "5\n",
      "7\n",
      "8\n",
      "1\n",
      "6\n"
     ]
    }
   ],
   "source": [
    "TTT.board()"
   ]
  },
  {
   "cell_type": "code",
   "execution_count": 50,
   "id": "c3ded231",
   "metadata": {},
   "outputs": [],
   "source": [
    "class just():\n",
    "    def s1(self,name,age):\n",
    "        self.age=age\n",
    "        self.name=name\n",
    "        print(\"s1\",self.name)\n",
    "    def s2(self):\n",
    "        print(\"S2\")\n",
    "#         print(self.name)\n"
   ]
  },
  {
   "cell_type": "code",
   "execution_count": 51,
   "id": "fe7061c1",
   "metadata": {},
   "outputs": [
    {
     "ename": "TypeError",
     "evalue": "just() takes no arguments",
     "output_type": "error",
     "traceback": [
      "\u001b[1;31m---------------------------------------------------------------------------\u001b[0m",
      "\u001b[1;31mTypeError\u001b[0m                                 Traceback (most recent call last)",
      "Cell \u001b[1;32mIn[51], line 1\u001b[0m\n\u001b[1;32m----> 1\u001b[0m j\u001b[38;5;241m=\u001b[39m\u001b[43mjust\u001b[49m\u001b[43m(\u001b[49m\u001b[38;5;124;43m\"\u001b[39;49m\u001b[38;5;124;43msdygs\u001b[39;49m\u001b[38;5;124;43m\"\u001b[39;49m\u001b[43m,\u001b[49m\u001b[38;5;241;43m852\u001b[39;49m\u001b[43m)\u001b[49m\n\u001b[0;32m      2\u001b[0m j\u001b[38;5;241m.\u001b[39ms2()\n",
      "\u001b[1;31mTypeError\u001b[0m: just() takes no arguments"
     ]
    }
   ],
   "source": [
    "j=just(\"sdygs\",852)\n",
    "j.s2()"
   ]
  },
  {
   "cell_type": "code",
   "execution_count": null,
   "id": "fa5eb3ea",
   "metadata": {},
   "outputs": [],
   "source": []
  },
  {
   "cell_type": "code",
   "execution_count": null,
   "id": "0e527b95",
   "metadata": {},
   "outputs": [],
   "source": []
  }
 ],
 "metadata": {
  "kernelspec": {
   "display_name": "Python 3 (ipykernel)",
   "language": "python",
   "name": "python3"
  },
  "language_info": {
   "codemirror_mode": {
    "name": "ipython",
    "version": 3
   },
   "file_extension": ".py",
   "mimetype": "text/x-python",
   "name": "python",
   "nbconvert_exporter": "python",
   "pygments_lexer": "ipython3",
   "version": "3.10.9"
  }
 },
 "nbformat": 4,
 "nbformat_minor": 5
}
