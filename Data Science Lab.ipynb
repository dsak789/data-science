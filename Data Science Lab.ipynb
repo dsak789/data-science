{
 "cells": [
  {
   "cell_type": "code",
   "execution_count": 1,
   "id": "991c9ec4",
   "metadata": {},
   "outputs": [
    {
     "name": "stdout",
     "output_type": "stream",
     "text": [
      "Let's Start Data Science Practicles\n"
     ]
    }
   ],
   "source": [
    "print(\"Let's Start Data Science Practicles\")"
   ]
  },
  {
   "cell_type": "code",
   "execution_count": 20,
   "id": "83799b28",
   "metadata": {},
   "outputs": [
    {
     "name": "stdout",
     "output_type": "stream",
     "text": [
      "The Zen of Python, by Tim Peters\n",
      "\n",
      "Beautiful is better than ugly.\n",
      "Explicit is better than implicit.\n",
      "Simple is better than complex.\n",
      "Complex is better than complicated.\n",
      "Flat is better than nested.\n",
      "Sparse is better than dense.\n",
      "Readability counts.\n",
      "Special cases aren't special enough to break the rules.\n",
      "Although practicality beats purity.\n",
      "Errors should never pass silently.\n",
      "Unless explicitly silenced.\n",
      "In the face of ambiguity, refuse the temptation to guess.\n",
      "There should be one-- and preferably only one --obvious way to do it.\n",
      "Although that way may not be obvious at first unless you're Dutch.\n",
      "Now is better than never.\n",
      "Although never is often better than *right* now.\n",
      "If the implementation is hard to explain, it's a bad idea.\n",
      "If the implementation is easy to explain, it may be a good idea.\n",
      "Namespaces are one honking great idea -- let's do more of those!\n"
     ]
    }
   ],
   "source": [
    "import this"
   ]
  },
  {
   "cell_type": "code",
   "execution_count": 19,
   "id": "ddbb151f",
   "metadata": {},
   "outputs": [
    {
     "name": "stdout",
     "output_type": "stream",
     "text": [
      "Experiment-1\n",
      "Sum of Series\n",
      "Value of n:650\n",
      "Sum of Series 7.054957061321836\n"
     ]
    }
   ],
   "source": [
    "print(\"Experiment-1\")\n",
    "print(\"Sum of Series\")\n",
    "\n",
    "def series():\n",
    "    sum=0.0\n",
    "    n=int(input(\"Value of n:\"))\n",
    "    if n<=0:\n",
    "        print(\"value of n should not be Negative\")\n",
    "    else:\n",
    "        for i in range(1,n+1):\n",
    "            sum+=1.0/i\n",
    "        print(\"Sum of Series\",sum)\n",
    "\n",
    "series()"
   ]
  },
  {
   "cell_type": "code",
   "execution_count": 34,
   "id": "6c42614d",
   "metadata": {},
   "outputs": [
    {
     "name": "stdout",
     "output_type": "stream",
     "text": [
      "Experiment-2\n",
      "Array Splitting\n",
      "Enter Elements into Array: AI ML AJP JAVA PSE DM DL WD\n",
      "Enter index value to Split7\n",
      "['AI', 'ML', 'AJP', 'JAVA', 'PSE', 'DM', 'DL']\n",
      "['WD']\n",
      "Original Array: ['AI', 'ML', 'AJP', 'JAVA', 'PSE', 'DM', 'DL', 'WD']\n",
      "Split and Added Array ['WD', 'AI', 'ML', 'AJP', 'JAVA', 'PSE', 'DM', 'DL']\n"
     ]
    }
   ],
   "source": [
    "print(\"Experiment-2\")\n",
    "print(\"Array Splitting\")\n",
    "\n",
    "def split_array(array,si):\n",
    "    if si < 0 or si >= len(array):\n",
    "        print(\"Inavlid index for Splitting\")\n",
    "        return array\n",
    "    else:\n",
    "        f_arr=array[:si]\n",
    "        print(f_arr)\n",
    "        s_arr=array[si:]\n",
    "        print(s_arr)\n",
    "        final_arr=s_arr+f_arr\n",
    "        return final_arr\n",
    "\n",
    "def main():\n",
    "    array=[x for x in input(\"Enter Elements into Array: \").split()]\n",
    "    si=int(input(\"Enter index value to Split\"))\n",
    "    fn_array=split_array(array,si)\n",
    "    \n",
    "    print(\"Original Array:\",array)\n",
    "    print(\"Split and Added Array\",fn_array)\n",
    "\n",
    "main()"
   ]
  },
  {
   "cell_type": "code",
   "execution_count": null,
   "id": "8694421b",
   "metadata": {},
   "outputs": [],
   "source": []
  }
 ],
 "metadata": {
  "kernelspec": {
   "display_name": "Python 3 (ipykernel)",
   "language": "python",
   "name": "python3"
  },
  "language_info": {
   "codemirror_mode": {
    "name": "ipython",
    "version": 3
   },
   "file_extension": ".py",
   "mimetype": "text/x-python",
   "name": "python",
   "nbconvert_exporter": "python",
   "pygments_lexer": "ipython3",
   "version": "3.10.9"
  }
 },
 "nbformat": 4,
 "nbformat_minor": 5
}
